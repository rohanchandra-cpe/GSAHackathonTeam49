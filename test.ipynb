{
 "cells": [
  {
   "cell_type": "code",
   "execution_count": 1,
   "metadata": {},
   "outputs": [],
   "source": [
    "import numpy as np\n",
    "from bs4 import BeautifulSoup\n",
    "import urllib.request"
   ]
  },
  {
   "cell_type": "code",
   "execution_count": 4,
   "metadata": {},
   "outputs": [],
   "source": [
    "def scrape_url(url, dest):\n",
    "    urllib.request.urlretrieve(url,dest)\n",
    "    \n",
    "    file = open(dest, \"r\")\n",
    "    contents = file.read()\n",
    "    soup = BeautifulSoup(contents, 'html.parser')\n",
    "    \n",
    "    f = open(dest, \"w\")\n",
    "    \n",
    "    # traverse paragraphs from soup\n",
    "    for data in soup.find_all(\"p\"):\n",
    "        sum = data.get_text()\n",
    "        f.writelines(sum)\n",
    "    \n",
    "    f.close()"
   ]
  },
  {
   "cell_type": "code",
   "execution_count": 5,
   "metadata": {},
   "outputs": [],
   "source": [
    "url = \"https://www.usda.gov/topics/farming/grants-and-loans\"\n",
    "destination = \"/Users/rohanchandra/Desktop/git/GSAHackathonTeam49/test_output.txt\"\n",
    "scrape_url(url, destination)"
   ]
  }
 ],
 "metadata": {
  "kernelspec": {
   "display_name": "en605645",
   "language": "python",
   "name": "python3"
  },
  "language_info": {
   "codemirror_mode": {
    "name": "ipython",
    "version": 3
   },
   "file_extension": ".py",
   "mimetype": "text/x-python",
   "name": "python",
   "nbconvert_exporter": "python",
   "pygments_lexer": "ipython3",
   "version": "3.11.9"
  }
 },
 "nbformat": 4,
 "nbformat_minor": 2
}
