{
 "cells": [
  {
   "cell_type": "code",
   "execution_count": 3,
   "id": "initial_id",
   "metadata": {
    "collapsed": true,
    "ExecuteTime": {
     "end_time": "2024-07-31T15:15:37.743054Z",
     "start_time": "2024-07-31T15:15:33.705896Z"
    }
   },
   "outputs": [],
   "source": [
    "import uuid\n",
    "import cohere\n",
    "from cohere import ChatConnector\n",
    "from typing import List\n",
    "api_key = 'BfTJNyke3jghhXpgRy6R1SSl8fRpso5o02i78moX'\n",
    "co = cohere.Client(api_key)"
   ]
  },
  {
   "cell_type": "code",
   "execution_count": 4,
   "outputs": [],
   "source": [
    "response = co.chat_stream(message=\"What is LLM university\",\n",
    "                          connectors = [ChatConnector(id=\"web-search\")])"
   ],
   "metadata": {
    "collapsed": false,
    "ExecuteTime": {
     "end_time": "2024-07-31T15:15:40.849752Z",
     "start_time": "2024-07-31T15:15:40.813637Z"
    }
   },
   "id": "78d378f2b63661e6"
  },
  {
   "cell_type": "code",
   "execution_count": 5,
   "outputs": [
    {
     "name": "stdout",
     "output_type": "stream",
     "text": [
      "\n",
      "Chatbot:\n",
      "LLM University is Cohere's educational resource for learning about Natural Language Processing (NLP) and Large Language Models (LLMs). The curriculum covers LLMs from the basics to building and using text representation and text generation models. It is geared towards anyone excited about NLP, from beginners in ML to advanced learners.\n",
      "\n",
      "In addition to LLM University, there are also various universities that offer LLM degrees, which stand for Master of Laws. These include the University of Law, Maryland Carey Law, the University of Manchester, and the University of Hong Kong.\n",
      "\n",
      "CITATIONS:\n",
      "start=18 end=47 text=\"Cohere's educational resource\" document_ids=['web-search_0', 'web-search_1']\n",
      "start=52 end=133 text='learning about Natural Language Processing (NLP) and Large Language Models (LLMs)' document_ids=['web-search_0']\n",
      "start=139 end=247 text='curriculum covers LLMs from the basics to building and using text representation and text generation models.' document_ids=['web-search_0']\n",
      "start=254 end=337 text='geared towards anyone excited about NLP, from beginners in ML to advanced learners.' document_ids=['web-search_0']\n",
      "start=417 end=428 text='LLM degrees' document_ids=['web-search_2', 'web-search_3', 'web-search_4']\n",
      "start=446 end=461 text='Master of Laws.' document_ids=['web-search_2', 'web-search_3']\n",
      "start=480 end=497 text='University of Law' document_ids=['web-search_2']\n",
      "start=499 end=517 text='Maryland Carey Law' document_ids=['web-search_3']\n",
      "start=523 end=547 text='University of Manchester' document_ids=['web-search_4']\n",
      "start=557 end=581 text='University of Hong Kong.' document_ids=['web-search_2']\n",
      "\n",
      "DOCUMENTS:\n",
      "{'id': 'web-search_0', 'snippet': \"Guides and ConceptsAPI ReferenceRelease NotesLLMUCookbooks\\n\\nChatDashboardDocumentationPlaygroundCommunityLog In\\n\\nChatDashboardDocumentationPlaygroundCommunityLog In\\n\\nWelcome to LLM University!\\n\\nWelcome to LLM University by Cohere!\\n\\nWe’re so happy that you’ve chosen to learn Natural Language Processing (NLP) and Large Language Models (LLMs) with us.\\n\\nOur comprehensive curriculum aims to give you a rock-solid foundation in NLP, equipping you with the skills needed to develop your own applications. Whether you want to learn semantic search, generation, classification, embeddings, or any other NLP technique, this is the place for you! We cater to learners from all backgrounds, covering everything from the basics to the most advanced topics in LLMs, ensuring you can harness the full potential of LLMs. Plus, you'll have the opportunity to work on hands-on exercises, allowing you to build and deploy your very own models.\\n\\nThe course covers LLMs starting from the basics, all the way to building and using text representation and text generation models. Its theoretical portion is explained clearly and with analogies and examples rather than formulas, and its practical portion contains lots of useful code examples that will help you solidify your knowledge. It is a one-size-fits-all approach, and learners can pick their own path. For this reason, it is geared for anyone excited about NLP, from beginners in ML, any developer looking to build apps with language AI as well as advanced learners who are ready to put their skills into practice.\\n\\nIn this course, you will learn everything about LLMs, including:\\n\\nWelcome to LLM University (you are here)\\n\\nWhat are Large Language Models?\\n\\nRetrieval-Augmented Generation (RAG)\\n\\nBy signing up for LLM University, you'll be on your way to mastering NLP and unlocking a world of opportunities in the ever-evolving field of language technology.\\n\\nJoin our Vibrant Community! 🌐\\n\\nSign up for Cohere's Discord community where you can connect with fellow learners, share ideas, and receive support throughout your NLP journey. For specific questions and support about LLM University, please visit our #llm-u channel on Discord.\\n\\nWe're so excited to take this journey with you! Happy Learning!\\n\\nThe next page: Structure of the Course\\n\\nUpdated 2 months ago\\n\\nNext you'll learn about the different modules of the course and their descriptions.\\n\\nStructure of the Course\", 'timestamp': '2024-06-05T13:00:57', 'title': 'LLM University (LLMU) | Cohere', 'url': 'https://docs.cohere.com/docs/llmu'}\n",
      "{'id': 'web-search_1', 'snippet': 'Cohere and Fujitsu Announce Strategic Partnership To Provide Japanese Enterprise AI Services Learn More\\n\\nIntroducing LLM University — Your Go-To Learning Resource for NLP🎓 Luis Serrano', 'timestamp': '2024-05-02T19:36:53', 'title': 'Introducing LLM University — Your Go-To Learning Resource for NLP🎓', 'url': 'https://cohere.com/blog/llm-university'}\n",
      "{'id': 'web-search_2', 'snippet': \"We're open for Clearing\\n\\nThe University of Law ranks 10th in the UK for quality of teaching in National Student Survey 2024. Find out more\\n\\nLLM, PG Dip, PG Cert\\n\\nLLM Master of Laws (General)\\n\\nA Master of Laws (LLM) offered by The University of Law, is a postgraduate degree designed for law and non-law graduates to to enhance your academic legal knowledge. With the Master of Laws (General) you can enjoy maximum flexibility in your choice of modules and dissertation topic. The course has been purposely designed to be an innovative, adaptable programme that allows you to customise your studies to suit your preferred areas of interest and can open up a range of career pathways.\\n\\nMinimum second-class honours degree\\n\\nCourse requirements ➔ Entry requirements\\n\\nLocations Birmingham, Bristol, Leeds, London Bloomsbury, London Moorgate, Manchester, Nottingham and Online\\n\\nSeptember 2024 See all Start Dates\\n\\nIf you’re looking for a more flexible approach to your studies, why not consider our online study option?\\n\\nAn innovative programme with maximum flexibility in the choice of modules and a dissertation topic of legal rules as they are applied in the real world.\\n\\nOur Employment Stats\\n\\n95% of postgraduate students in employment were in highly skilled employment 15 months after graduating (2020/21 Graduate Outcomes data). Contains HESA Data: Copyright Jisc 2022.\\n\\nTaught by subject experts\\n\\nTaught by a combination of former and current practitioners, as well as research and teaching academics who are focused on legal practice, not just theory.\\n\\nLLM Master of Laws (General)\\n\\nThe Master of Laws (General) LLM programme is designed for those who desire flexibility in the choice of modules and dissertation topic while studying. The programme design means that you can choose modules based on the criteria most important to you. Whether you have a particular career goal in mind, or are studying for pure enjoyment, the Master of Laws (General) programme allows you maximum control over your degree. You can also choose to study our Postgraduate Certificate Law (General) or our Postgraduate Diploma Law (General).\\n\\nWhen you study the LLM Master of Laws (General) with us you will:\\n\\nBe taught by our expert lecturers, including subject matter specialists, former and current practitioners, and research and teaching focused academics. \\n\\nBenefit from strategic partnerships with firms, regulators and accreditation bodies, which inform our programme development.\\n\\nImprove your employability by gaining important transferable skills and mapping your career with our careers team.\\n\\nStrengthen your network – connect with other students, faculty and industry professionals on an international scale, and seek out opportunities for future placements and job opportunities\\n\\nIncrease your earning potential – the 2022 Graduate Labour Market Statistics found that postgraduates on average earn £6,500 more than their graduate counterparts.\\n\\nGet ahead of the competition – gain in-depth knowledge of your topic of interest and become a subject expert, which will provide you with a competitive edge in the job market.\\n\\n95% of postgraduate students in employment were in highly skilled employment 15 months after graduating (2020/21 Graduate Outcomes data). Contains HESA Data: Copyright Jisc 2022.\\n\\nEnjoy flexibility - We understand that everyone’s circumstances are different. That’s why we offer a wide range of study modes (full-time, part-time, on campus, online) across our courses to provide you with the greatest choice and flexibility you need to succeed in your studies. \\n\\nPrepare for the future of Legal Technology – study modules in legal technology and gain insight into this emerging area of law.\\n\\nEnjoy maximum flexibility - the course has been purposely designed to be an innovative, adaptable programme that allows you to customise your studies to suit your preferred areas of interest.\\n\\nOur flexibly structured course is delivered by qualified lawyers and research and teaching focused academics, bringing their expertise and experience into the classroom to provide you with the real-world insight that can help prepare you for the practical application of the law.\\n\\nPlease note that, due to Home Office regulations, students who require a Student Route visa to study with us are not permitted to study online and can only choose face-to-face taught modules.\\n\\nThe Postgraduate Certificate Law (General), (PGCert), can be studied part-time over 35 weeks or full-time over 18 weeks.\\n\\nThe Postgraduate Diploma Law (General), (PGDip), can be studied part-time over 74 weeks or full-time over 35 weeks.\\n\\nThe LLM Master of Laws (General) can be studied part-time over 24 months or full-time over 12 months.\\n\\nPostgraduate Certificate Law (General)\\n\\nTerm 1 (full-time) or 1-2 (part-time)\\n\\nIn addition to a general induction to the programme, there is a two-week induction covering the Key Principles of the English Legal System. This is compulsory for non-law students, but also open to law students wanting a refresher in the fundamentals of the law of England and Wales. This would be useful for any student who has taken a considerable break from legal education.\\n\\nYou may then choose two elective modules*\\n\\nView the elective module guide\\n\\n*All elective modules are subject to availability\\n\\nPostgraduate Diploma Law (General)\\n\\nPlease note: This course is not our Postgraduate Diploma in Law (PGDL) conversion course, which provides a pathway into practice for non-law graduates who want to progress onto further study to qualify as a solicitor or barrister in England and Wales.\\n\\nTerms 1-2 (full-time) or 1-4 (part-time)\\n\\nIn addition to a general induction to the programme, there is a two-week induction covering the Key Principles of the English Legal System. This is compulsory for non-law students, but also open to law students wanting a refresher in the fundamentals of the law of England and Wales. This would be useful for any student who has taken a considerable break from legal education.\\n\\nYou may then choose four elective modules*\\n\\nView the elective module guide\\n\\n*All elective modules are subject to availability\\n\\nLLM Master of Laws (General)\\n\\nTerms 1-3 (full-time) or 1-6 (part-time)\\n\\nIn addition to a general induction to the programme, there is a two-week induction covering the Key Principles of the English Legal System. This is compulsory for non-law students, but also open to law students wanting a refresher in the fundamentals of the law of England and Wales. This would be useful for any student who has taken a considerable break from legal education.\\n\\nResearch Methods Training to help you prepare for your dissertation\\n\\nYou may then choose four (two per term) elective modules*\\n\\nView the elective module guide\\n\\n*All elective modules are subject to availability\\n\\nDissertation in one of your Elective Module subject areas.\\n\\nLLM Master of Laws (General)\\n\\nFull-time: Birmingham, Bristol, Leeds, London Bloomsbury, London Moorgate, Manchester and Nottingham\\n\\nPart-time: Birmingham, Bristol, Leeds, London Bloomsbury, London Moorgate, Manchester and Nottingham\\n\\nLLM Master of Laws (General)\\n\\nFull-time: Birmingham, Bristol, Leeds, London Bloomsbury, London Moorgate, Manchester and Nottingham\\n\\nPart-time: Birmingham, Bristol, Leeds, London Bloomsbury, London Moorgate, Manchester and Nottingham\\n\\nStudy LLM Master of Laws (General) Online starting September 2024 or February 2025\\n\\nEnquiry form could not be loaded\\n\\nThe course demands show you the requirements, prior knowledge and commitments our course will involve.\\n\\nIf you’re looking for the perfect combination of a flexible study programme to fit around your other commitments together with the benefit of our expertise, experience and employability focus, why not consider our online study option?\\n\\nLLM Master of Laws (General) Online ➔\\n\\nopen daysUpcoming Dates\\n\\nGenerative Artificial Intelligence In Law (Virtual Event)\\n\\nPostgraduate and Undergraduate\\n\\nLegal Practice Course Open Day (Bristol Campus)\\n\\nSQE Courses for Law Graduates Open Day (Bristol Campus)\\n\\nView all dates Student hub\\n\\nWith so many options for studying this course, you can be sure to find a start date and study option to suit your needs.\\n\\nDownload LLM course dates Download PG Dip course dates Download PG Cert course dates\\n\\nModules are assessed by a three hour unseen written examination or 4,500 word coursework assignment.\\n\\nAll assessments are conducted online.\\n\\nThe dissertation module will be assessed by submission of a thesis (15,000 words), and provides an opportunity for sustained, in-depth and intensive investigation into, and reflection upon, your chosen specialist area.\\n\\nThe course has an innovatively flexible structure, with specific assessments that are conducive to effective learning.\\n\\nThe approach to learning and teaching on the Master of Laws programmes is predominantly learner-centred. Each taught module is divided into a number of Units which are presented using the Prepare, Engage, Consolidate approach.\\n\\nPrepare: this represents all the work the student needs to complete before attending the relevant workshop. Traditional lecture content will be presented in short bite-sized segments of approximately 10 minutes to better engage the modern student. Guided independent research and reading will be expected as part of a student’s preparation.\\n\\nEngage: this represents the interactive element of the Unit. This could be a face to face workshop, a synchronous online workshop or an asynchronous online activity.\\n\\nConsolidate: this represents the final part of the Unit and can be used by students to check their understanding of the Unit immediately after their Engage activity or as part of their revision for the module or both.\\n\\nDownload course structure\\n\\nEmployability We Set You Up For Success\\n\\nWe care about your career, which is why we offer support with job applications and other work experience opportunities as soon as you accept your place. Discover more\\n\\nFind a career that suits you\\n\\nYou can apply for this course directly with the University.\\n\\nThis course cannot be chosen to study alongside our Legal Practice Course (LPC). For more information on the choice of Master's to study alongside our LPC, please visit the LPC page.\\n\\nPlease note: Our Master of Laws (LLM) programmes are not a direct route to qualification as a Barrister or Solicitor in the UK.\\n\\nPlease note: Our Hong Kong courses are not yet open for applications. If you are interested in finding out more about studying in Hong Kong, please register your interest today.\\n\\n2024/25 Course Fee (for courses starting on or after 1 July 2024)\\n\\nPGCert Law (General)\\n\\nDomestic students London: £4,550 Outside of London: £4,000 Non-domestic students London: £6,200 Outside of London: £5,700\\n\\nDomestic students London: £9,000 Outside of London: £8,000 Non-domestic students London: £12,400 Outside of London: £11,400\\n\\nLLM Master of Law (General)\\n\\nDomestic students London: £13,450 Outside of London: £11,900 Non-domestic students London: £18,500 (or £15,500 including a £3,000 International Bursary*) Outside of London: £17,000 (or £14,500 including a £2,500 International Bursary*)\\n\\nHong Kong students: HKD $133,400\\n\\n*Terms and Conditions apply\\n\\nBy studying a Master's degree you could be eligible for a Postgraduate Loan.\\n\\nIf you’re a ULaw alumnus, you may be eligible to receive our £1000 Academic Master's Alumni Discount.\\n\\nWe also have a range of scholarships and bursaries available which make studying with us more affordable than ever. \\n\\nWe have students from over 120 different countries throughout our campuses, with a dedicated team to help international students.\\n\\nIf you are an international student and are coming to the UK to study, then you must apply to the Home Office for a visa. In most cases you will need to obtain a Student Route visa. In order to apply for this visa you must be sponsored by an education provider which is licensed by the UK Home Office.\\n\\nThe Home Office has also introduced a Graduate Work visa which allows Graduates to work flexibly, switch jobs and develop their career in the UK for 2 years post completion of a UK degree. The Graduate route is an unsponsored visa, meaning students will not need a job offer to apply for this visa.\\n\\nPlease note that the University does not currently provide visa sponsorship to students for part-time study. We also cannot sponsor students for online courses due to Home Office regulations.\\n\\nWe offer this course with Pre-sessional English for students who need to improve their English language level to meet the language entry requirements. Take a look at our English Language Courses page for more details.\\n\\nbrowse Other Courses\\n\\nPostgraduate Courses\\n\\nLegal Practice Course (LPC)\\n\\nPostgraduate Courses\\n\\nLLM Legal Practice (SQE1&2)\\n\\nPostgraduate Courses\\n\\nBar Practice Course (BPC)\\n\\nPostgraduate Courses\\n\\nPostgraduate Diploma in Law (PGDL) - (conversion)\\n\\nPostgraduate Courses\\n\\nPostgraduate Courses\\n\\nPostgraduate Courses\\n\\nPostgraduate Courses\\n\\nSQE1 Preparation for Legal Professionals\\n\\nPostgraduate Courses\\n\\nSQE2 Preparation for Legal Professionals\\n\\nPostgraduate Courses\\n\\nSQE1 Preparation Course\\n\\nPostgraduate Courses\\n\\nSQE2 Preparation Course\\n\\nPostgraduate Courses\\n\\nLLM Corporate Social Responsibility and Sustainability\\n\\nPostgraduate Courses\\n\\nSQE1 Exam Preparation Course\\n\\nPostgraduate Courses\\n\\nLLM International Corporate Governance\\n\\nPostgraduate Courses\\n\\nSQE2 Exam Preparation Course\\n\\nPostgraduate Courses\\n\\nLLM Banking and Debt Finance\\n\\nPostgraduate Courses\\n\\nLLM Media Law, Privacy and Defamation\\n\\nPostgraduate Courses\\n\\nPostgraduate Courses\\n\\nPostgraduate Courses\\n\\nPostgraduate Courses\\n\\nLLM International and Comparative Law\\n\\nPostgraduate Courses\\n\\nLLM Healthcare Regulation\\n\\nPostgraduate Courses\\n\\nLLM International Criminal Law\\n\\nPostgraduate Courses\\n\\nPostgraduate Courses\\n\\nLLM Compliance and Regulation\\n\\nPostgraduate Courses\\n\\nLLM Corporate Governance\\n\\nPostgraduate Courses\\n\\nLLM Corporate Governance GradCG\\n\\nPostgraduate Courses\\n\\nLLM Public International Law\\n\\nPostgraduate Courses\\n\\nLLM International Arbitration\\n\\nPostgraduate Courses\\n\\nLLM International Business Law\\n\\nPostgraduate Courses\\n\\nLLM International Human Rights Law\\n\\nPostgraduate Courses\\n\\nLLM, PG Dip, PG Cert\\n\\nLLM Master of Law (International)\\n\\nPostgraduate Courses\\n\\nLLM Mediation and Alternative Dispute Resolution\\n\\nPostgraduate Courses\\n\\nLLM Medical Law and Ethics\\n\\nPostgraduate Courses\\n\\nLLM Mental Health Law\\n\\nPostgraduate Courses\\n\\nMSc Legal Technology\\n\\nPostgraduate Courses\\n\\nPostgraduate Courses\\n\\nLLM Data Protection and Intellectual Property\\n\\nPostgraduate Courses\\n\\nPostgraduate Courses\\n\\nLLM Environmental Law\\n\\nPostgraduate Courses\\n\\nLLM International Finance Law\\n\\nPostgraduate Courses\\n\\nPostgraduate Courses\\n\\nLLM International Commercial Law\\n\\nPostgraduate Courses\\n\\nLLM International Energy Law\\n\\nPostgraduate Courses\\n\\nPostgraduate Courses\\n\\nPostgraduate Courses\\n\\nLLM Investment Regulation\\n\\nPostgraduate Courses\\n\\nLLM Construction Law\\n\\nPostgraduate Courses\\n\\nPostgraduate Courses\\n\\nUS Bar Preparation Course\\n\\nLaw View all courses\\n\\nrelatedNews and Articles\\n\\nCareer changers and further studies: What are the benefits of studying for a master’s?\\n\\nWhy should you study an LLM?\\n\\nHow much does a master’s degree cost?\", 'timestamp': '2024-07-31T15:00:14', 'title': 'LLM Master of Laws (General) Degree | University of Law', 'url': 'https://www.law.ac.uk/study/postgraduate/law/llm-master-of-laws-general/'}\n",
      "{'id': 'web-search_3', 'snippet': 'Take your legal expertise to the next level with a Master of Laws (LLM) degree from Maryland Carey Law. The LLM program is designed for U.S.-educated lawyers who already hold a JD degree from an American Bar Association accredited law school and foreign-trained lawyers who want to enhance their prior legal training by developing a breadth of knowledge or expertise in U.S. law. \\n\\nThis year-long, flexible program enables you to tailor your learning to align with your professional goals. Choose from our extensive catalog of classes to hone your knowledge and skills in a specific area of the law or explore emerging areas of legal practice to enhance your marketability as a practitioner. \\n\\nInternational Students\\n\\nIf you want to pursue bar admission in a U.S. jurisdiction, carefully review the required eligibility and admission requirements for each jurisdiction in which you hope to gain admission. More information can be found at the National Conference of Bar Examiners.\\n\\nInternational students on an F-1 visa wishing to pursue work in the United State after graduation may be eligible for such opportunities through the Optional Practical Training (OPT) program which grants a graduate 12 months of work time once they leave law school, provided they work in an industry related to their degree. More information can be found at our International Student Services Office.\\n\\nSchedule an Appointment\\n\\nAreas ofStudyLearn more\\n\\nPrograms & CentersLearn more\\n\\nExperiential LearningLearn more\\n\\nFind out the requirements you need to fulfill to earn your LLM.Learn more\\n\\nOne of my favorite things about Maryland Carey Law was that the professors were always there for us, helping us, especially the foreign students. At the same time, they were always pushing us, leading us to give more of ourselves.\\n\\nLuciana Pineda ’16\\n\\nLLM Admissions Learn more\\n\\nTuition and Fees Learn more\\n\\nScholarships and AidLearn more\\n\\nFor more information about the LLM Program, please contact our Office of Admissions.\\n\\nllm@law.umaryland.edu(410) 706-3492', 'timestamp': '2024-07-19T20:47:26', 'title': 'LLM Program', 'url': 'https://www.law.umaryland.edu/academics/llm-program/'}\n",
      "{'id': 'web-search_4', 'snippet': \"Skip to navigation | Skip to main content | Skip to footer\\n\\nAlternatively, use our A–Z index\\n\\nDownload our course brochure\\n\\nDiscover more about Law at Manchester\\n\\nMaster of Laws (LLM)\\n\\nWe require a UK bachelor's degree with a First or Upper Second (2.1) classification or the overseas equivalent in Law. Candidates should demonstrate a strong background in Law modules relevant to the course, including Public Law and Contract Law and achieve scores of 2.1 or above in relevant modules.\\n\\nWhen assessing your academic record, we consider the grades you have achieved and the standing of the institution where you studied your qualification.\\n\\nFull entry requirements\\n\\nFull-time distance learning\\n\\nPart-time distance learning\\n\\nDownload our course brochure\\n\\nDiscover more about Law at Manchester\\n\\nExplore a range of law disciplines and topics.\\n\\nPursue a flexible course, allowing a specialised or multi-directional approach to law.\\n\\nBenefit from the wealth of research expertise and the knowledge that practising law staff bring to the course.\\n\\nHolly Bamber tells us why she chose the LLM Law at Manchester\\n\\nThe University organises open days every year in June, September, and October.\\n\\nThese are an opportunity to find out about the course, meet students and staff, and tour the campus and facilities.\\n\\nIf you receive an offer, we will invite you to a visit day where you learn about the School, teaching and learning, study opportunities and student life.\\n\\nFor entry in the academic year beginning September 2024, the tuition fees are as follows:\\n\\nLLM (full-time) UK students (per annum): £15,500 International, including EU, students (per annum): £28,500\\n\\nFurther information for EU students can be found on our dedicated EU page.\\n\\nThe fees quoted above will be fully inclusive for the course tuition, administration and computational costs during your studies.\\n\\nAll fees for entry will be subject to yearly review and incremental rises per annum are also likely over the duration of courses lasting more than a year for UK/EU students (fees are typically fixed for International students, for the course duration at the year of entry). For general fees information please visit: postgraduate fees . Always contact the department if you are unsure which fee applies to your qualification award and method of attendance.\\n\\nSelf-funded international applicants for this course will be required to pay a deposit of £1000 towards their tuition fees before a confirmation of acceptance for studies (CAS) is issued. This deposit will only be refunded if immigration permission is refused. We will notify you about how and when to make this payment.\\n\\nPolicy on additional costs\\n\\nAll students should normally be able to complete their programme of study without incurring additional study costs over and above the tuition fee for that programme. Any unavoidable additional compulsory costs totalling more than 1% of the annual home undergraduate fee per annum, regardless of whether the programme in question is undergraduate or postgraduate taught, will be made clear to you at the point of application. Further information can be found in the University's Policy on additional costs incurred by students on undergraduate and postgraduate taught programmes (PDF document, 91KB).\\n\\nScholarships/sponsorships\\n\\nThere are several scholarships and bursaries that you may be eligible for.\\n\\nManchester Alumni Scholarship Scheme\\n\\nThe Manchester Alumni Scholarship Scheme offers a £3,000 reduction in tuition fees to University of Manchester alumni who achieved a first-class bachelor's degree and are progressing to a postgraduate taught master's course.\\n\\nManchester Humanities International Excellence Scholarship\\n\\nThe University of Manchester is proud to offer scholarship awards to exceptional international students.\\n\\nManchester Master's Bursary\\n\\nThe University of Manchester is committed to widening participation in master's study and allocates 75 awards of £4,000 each year.\\n\\nPostgraduate loans for master's students\\n\\nIf you're coming to Manchester this year to begin postgraduate study, you could qualify for a loan from the UK government.\\n\\nFor more information on our awards, see fees and funding or search the University's postgraduate funding database .\\n\\nCommonwealth Scholarships and Fellowships Plan (CSFP) General Scholarship\\n\\nSchool of Social Sciences\\n\\nPostgraduate Taught Admissions Team\\n\\n+44 (0) 161 306 5500\\n\\npg-law@manchester.ac.uk\\n\\nhttps://www.socialsciences.manchester.ac.uk/law/\\n\\nSee: School Subjects\\n\\nCourses in related subject areas\\n\\nUse the links below to view lists of courses in related subject areas.\\n\\nRegulated by the Office for Students\\n\\nThe University of Manchester is regulated by the Office for Students (OfS). The OfS aims to help students succeed in Higher Education by ensuring they receive excellent information and guidance, get high quality education that prepares them for the future and by protecting their interests. More information can be found at the OfS website.\\n\\nYou can find regulations and policies relating to student life at The University of Manchester, including our Degree Regulations and Complaints Procedure, on our regulations website.\", 'timestamp': '2024-07-27T13:38:04', 'title': 'LLM Law (2024 entry) | The University of Manchester', 'url': 'https://www.manchester.ac.uk/study/masters/courses/list/08446/llm-law/'}\n",
      "\n",
      "----------------------------------------------------------------------------------------------------\n"
     ]
    }
   ],
   "source": [
    "print(\"\\nChatbot:\")\n",
    "citations = []\n",
    "cited_documents = []\n",
    "\n",
    "# Display response\n",
    "for event in response:\n",
    "    if event.event_type == \"text-generation\":\n",
    "        print(event.text, end=\"\")\n",
    "    elif event.event_type == \"citation-generation\":\n",
    "        citations.extend(event.citations)\n",
    "    elif event.event_type == \"search-results\":\n",
    "        cited_documents = event.documents\n",
    "\n",
    "# Display citations and source documents\n",
    "if citations:\n",
    "    print(\"\\n\\nCITATIONS:\")\n",
    "    for citation in citations:\n",
    "        print(citation)\n",
    "\n",
    "    print(\"\\nDOCUMENTS:\")\n",
    "    for document in cited_documents:\n",
    "        print(document)\n",
    "\n",
    "print(f\"\\n{'-'*100}\\n\")"
   ],
   "metadata": {
    "collapsed": false,
    "ExecuteTime": {
     "end_time": "2024-07-31T15:16:18.978909Z",
     "start_time": "2024-07-31T15:15:41.941915Z"
    }
   },
   "id": "2707496265351d56"
  },
  {
   "cell_type": "code",
   "execution_count": 5,
   "outputs": [],
   "source": [
    "class Chatbot:\n",
    "    def __init__(self, connectors: List[str]):\n",
    "        \"\"\"\n",
    "        Initializes an instance of the Chatbot class.\n",
    "\n",
    "        \"\"\"\n",
    "        self.conversation_id = str(uuid.uuid4())\n",
    "        self.connectors = [ChatConnector(id=connector) for connector in connectors]\n",
    "\n",
    "    def run(self):\n",
    "        \"\"\"\n",
    "        Runs the chatbot application.\n",
    "\n",
    "        \"\"\"\n",
    "        while True:\n",
    "            # Get the user message\n",
    "            message = input(\"User: \")\n",
    "\n",
    "            # Typing \"quit\" ends the conversation\n",
    "            if message.lower() == \"quit\":\n",
    "                print(\"Ending chat.\")\n",
    "                break\n",
    "            else:                       # If using Google Colab, remove this line to avoid printing the same thing twice\n",
    "                print(f\"User: {message}\") # If using Google Colab, remove this line to avoid printing the same thing twice\n",
    "\n",
    "            # Generate response\n",
    "            response = co.chat_stream(\n",
    "                message=message,\n",
    "                model=\"command-r-plus\",\n",
    "                conversation_id=self.conversation_id,\n",
    "                connectors=self.connectors,\n",
    "            )\n",
    "\n",
    "            # Print the chatbot response, citations, and documents\n",
    "            print(\"\\nChatbot:\")\n",
    "            citations = []\n",
    "            cited_documents = []\n",
    "\n",
    "            # Display response\n",
    "            for event in response:\n",
    "                if event.event_type == \"text-generation\":\n",
    "                    print(event.text, end=\"\")\n",
    "                elif event.event_type == \"citation-generation\":\n",
    "                    citations.extend(event.citations)\n",
    "                elif event.event_type == \"stream-end\":\n",
    "                    cited_documents = event.response.documents\n",
    "\n",
    "            # Display citations and source documents\n",
    "            if citations:\n",
    "                print(\"\\n\\nCITATIONS:\")\n",
    "                for citation in citations:\n",
    "                    print(citation)\n",
    "\n",
    "                print(\"\\nDOCUMENTS:\")\n",
    "                for document in cited_documents:\n",
    "                    print({'id': document['id'],\n",
    "                           'snippet': document['snippet'][:400] + '...',\n",
    "                           'title': document['title'],\n",
    "                           'url': document['url']})\n",
    "\n",
    "            print(f\"\\n{'-'*100}\\n\")"
   ],
   "metadata": {
    "collapsed": false,
    "ExecuteTime": {
     "end_time": "2024-07-30T20:29:08.034303Z",
     "start_time": "2024-07-30T20:29:07.999721Z"
    }
   },
   "id": "1fd3710b1f197b99"
  },
  {
   "cell_type": "code",
   "execution_count": 6,
   "outputs": [
    {
     "name": "stdout",
     "output_type": "stream",
     "text": [
      "User: What is GSA AI Hackathon happening tomorrow\n",
      "\n",
      "Chatbot:\n",
      "I was unable to find any information about a GSA AI Hackathon happening tomorrow. However, I did find information about a GSA AI Hackathon that took place on May 17, 2017. The goal of the hackathon was to make federal-level information more accessible through consumer Intelligent Personal Assistants (IPAs).\n",
      "\n",
      "CITATIONS:\n",
      "start=158 end=164 text='May 17' document_ids=['web-search_0', 'web-search_3']\n",
      "start=166 end=171 text='2017.' document_ids=['web-search_1', 'web-search_3', 'web-search_4']\n",
      "start=205 end=307 text='make federal-level information more accessible through consumer Intelligent Personal Assistants (IPAs)' document_ids=['web-search_0']\n",
      "\n",
      "DOCUMENTS:\n",
      "{'id': 'web-search_0', 'snippet': \"For optimal browsing, we recommend Chrome, Firefox or Safari browsers.\\n\\nSpecial: Constituents\\n\\nGSA Hackathon Sought Tangible AI Solutions for Making Government Data Accessible via 'Personal Assistant'\\n\\nMany agencies in attendance gave overviews of what types of public data they have, how those are accessed and in what format they exist — focusing on frequently requested information ranging from st...\", 'title': \"GSA Hackathon Sought Tangible AI Solutions for Making Government Data Accessible via 'Personal Assistant'\", 'url': 'https://www.govtech.com/civic/gsa-hackathon-sought-tangible-ai-solutions-for-making-government-data-accessible-via-personal-assistant.html'}\n",
      "{'id': 'web-search_3', 'snippet': 'Navigation Menu Toggle navigation\\n\\nSearch or jump to...\\n\\nSearch code, repositories, users, issues, pull requests...\\n\\nYou signed in with another tab or window. Reload to refresh your session. You signed out in another tab or window. Reload to refresh your session. You switched accounts on another tab or window. Reload to refresh your session.\\n\\nGSA / AI-Assistant-Pilot Public\\n\\nYou must be signed in ...', 'title': 'Next \"Hack-A-Thon\" Date? · Issue #7 · GSA/AI-Assistant-Pilot', 'url': 'https://github.com/GSA/AI-Assistant-Pilot/issues/7'}\n",
      "{'id': 'web-search_1', 'snippet': 'Skip to main content\\n\\nAn official website of the United States government\\n\\nHere’s how you know Here’s how you know\\n\\nOfficial websites use .gov A .gov website belongs to an official government organization in the United States.\\n\\nSecure .gov websites use HTTPS A lock ( ) or https:// means you’ve safely connected to the .gov website. Share sensitive information only on official, secure websites.\\n\\nU.S...', 'title': 'Opening Public Services to Artificial Intelligence Assistants | GSA', 'url': 'https://www.gsa.gov/blog/2017/06/06/opening-public-services-to-artificial-intelligence-assistants'}\n",
      "{'id': 'web-search_4', 'snippet': 'Digital News Coverage of Government Contracting and Federal Policy Landscape\\n\\nGovernment Technology/News\\n\\nFederal Agency Participants Develop Virtual Assistant Prototypes Under GSA’s Citizen Tech Initiative\\n\\nThe General Services Administration has hosted a “hackathon” that gatheredÂ participants from various federal agencies to buildÂ prototypes of artificial intelligence-powered virtualÂ assistan...', 'title': \"Federal Agency Participants Develop Virtual Assistant Prototypes Under GSA's Citizen Tech Initiative\", 'url': 'https://executivegov.com/2017/06/federal-agency-participants-develop-virtual-assistant-prototypes-under-gsas-citizen-tech-initiative/'}\n",
      "\n",
      "----------------------------------------------------------------------------------------------------\n",
      "User: what is GSA AI Hackathon happening on July 31, 2024\n",
      "\n",
      "Chatbot:\n",
      "On July 31, 2024, the General Services Administration (GSA) is hosting an AI-themed Hackathon in Washington, D.C., Atlanta, and New York City. The hackathon aims to use AI to optimize government websites and digital services for a future in which Americans will increasingly rely on generative AI tools to find information and access services. \n",
      "\n",
      "The hackathon is focused on answering the question: How should federal websites evolve to meet this future? It aims to support the responsible and effective government use of AI to deliver better results for Americans while mitigating its risks.\n",
      "\n",
      "Participants will be challenged to reimagine specific federal websites in a way that optimizes AI and user experience. GSA and event co-sponsors will provide participants with access to some of the most widely used AI and cloud tools to leverage large language models (LLMs), write code, propose development standards, and create features that increase the reliability of AI services that interface with government information systems.\n",
      "\n",
      "A pool of $10,000 in prize money is available for winning participants and teams.\n",
      "\n",
      "CITATIONS:\n",
      "start=22 end=53 text='General Services Administration' document_ids=['web-search_0', 'web-search_2', 'web-search_4', 'web-search_5']\n",
      "start=54 end=59 text='(GSA)' document_ids=['web-search_0', 'web-search_1', 'web-search_2', 'web-search_3', 'web-search_4', 'web-search_5']\n",
      "start=74 end=93 text='AI-themed Hackathon' document_ids=['web-search_0', 'web-search_2', 'web-search_4', 'web-search_5']\n",
      "start=97 end=107 text='Washington' document_ids=['web-search_0', 'web-search_1', 'web-search_2', 'web-search_4', 'web-search_5']\n",
      "start=109 end=113 text='D.C.' document_ids=['web-search_0', 'web-search_1', 'web-search_2', 'web-search_3', 'web-search_4', 'web-search_5']\n",
      "start=115 end=122 text='Atlanta' document_ids=['web-search_0', 'web-search_1', 'web-search_2', 'web-search_3', 'web-search_4', 'web-search_5']\n",
      "start=128 end=142 text='New York City.' document_ids=['web-search_0', 'web-search_1', 'web-search_2', 'web-search_3', 'web-search_4', 'web-search_5']\n",
      "start=165 end=203 text='use AI to optimize government websites' document_ids=['web-search_0', 'web-search_1', 'web-search_2', 'web-search_4', 'web-search_5']\n",
      "start=208 end=224 text='digital services' document_ids=['web-search_0']\n",
      "start=247 end=343 text='Americans will increasingly rely on generative AI tools to find information and access services.' document_ids=['web-search_0', 'web-search_2', 'web-search_4']\n",
      "start=398 end=452 text='How should federal websites evolve to meet this future' document_ids=['web-search_0', 'web-search_1']\n",
      "start=465 end=591 text='support the responsible and effective government use of AI to deliver better results for Americans while mitigating its risks.' document_ids=['web-search_0']\n",
      "start=628 end=711 text='reimagine specific federal websites in a way that optimizes AI and user experience.' document_ids=['web-search_0', 'web-search_1', 'web-search_4', 'web-search_5']\n",
      "start=720 end=737 text='event co-sponsors' document_ids=['web-search_0', 'web-search_1', 'web-search_2', 'web-search_4', 'web-search_5']\n",
      "start=769 end=826 text='access to some of the most widely used AI and cloud tools' document_ids=['web-search_0', 'web-search_1', 'web-search_2', 'web-search_4', 'web-search_5']\n",
      "start=830 end=867 text='leverage large language models (LLMs)' document_ids=['web-search_0', 'web-search_1', 'web-search_2', 'web-search_4', 'web-search_5']\n",
      "start=869 end=879 text='write code' document_ids=['web-search_0', 'web-search_1', 'web-search_4', 'web-search_5']\n",
      "start=881 end=910 text='propose development standards' document_ids=['web-search_0', 'web-search_1', 'web-search_5']\n",
      "start=916 end=1028 text='create features that increase the reliability of AI services that interface with government information systems.' document_ids=['web-search_0', 'web-search_1', 'web-search_2', 'web-search_4']\n",
      "start=1032 end=1062 text='pool of $10,000 in prize money' document_ids=['web-search_0', 'web-search_1', 'web-search_2', 'web-search_4', 'web-search_5']\n",
      "start=1080 end=1111 text='winning participants and teams.' document_ids=['web-search_2', 'web-search_4']\n",
      "\n",
      "DOCUMENTS:\n",
      "{'id': 'web-search_0', 'snippet': 'Skip to main content\\n\\nAn official website of the United States government\\n\\nHere’s how you know Here’s how you know\\n\\nOfficial websites use .gov A .gov website belongs to an official government organization in the United States.\\n\\nSecure .gov websites use HTTPS A lock ( ) or https:// means you’ve safely connected to the .gov website. Share sensitive information only on official, secure websites.\\n\\nU.S...', 'title': 'GSA to host Artificial Intelligence Hackathon July 31 | GSA', 'url': 'https://www.gsa.gov/blog/2024/07/02/gsa-to-host-artificial-intelligence-hackathon-july-31'}\n",
      "{'id': 'web-search_2', 'snippet': 'We Pray For America!\\n\\nThursday, July 18, 2024\\n\\nWe Pray For America!\\n\\nHome › Prayer Updates › GSA Launches AI Hackathon to Transform Federal Websites\\n\\nGSA Launches AI Hackathon to Transform Federal Websites\\n\\nPrayer Updates Posted on July 18, 2024 • Updated July 10, 2024 —by The Presidential Prayer Team\\n\\nThe event was co-sponsored by OpenAI and Microsoft, offers a $10,000 prize pool, and aims to pre...', 'title': 'GSA Launches AI Hackathon to Transform Federal Websites – The Presidential Prayer Team', 'url': 'https://www.presidentialprayerteam.org/2024/07/18/prayer-update-25-4/'}\n",
      "{'id': 'web-search_4', 'snippet': 'Skip to main content\\n\\nAdvertise Search Close\\n\\nSubscribe to our daily newsletter. Subscribe Close\\n\\nGSA announces AI-themed hackathon\\n\\nThe hackathon will offer a pool of $10,000 in prize money to winners of the competitions in Washington D.C., Atlanta and New York City.\\n\\nThe General Services Administration (GSA) Headquarters building. (SAUL LOEB/AFP via Getty Images)\\n\\nThe General Services Administra...', 'title': 'GSA announces AI-themed hackathon | FedScoop', 'url': 'https://fedscoop.com/gsa-announces-ai-themed-hackathon/'}\n",
      "{'id': 'web-search_5', 'snippet': 'GSA to Host a Federal AI Hackathon on July 31\\n\\nThe General Services Administration – along with other Federal agencies and corporate partners – is hosting a Federal AI Hackathon in Washington, Atlanta, and New York City on July 31, focused on reimaging government websites to optimize AI and user experience.\\n\\nThe event aims to advance GSA’s current AI efforts, in support of President Biden’s Octobe...', 'title': 'GSA to Host a Federal AI Hackathon on July 31 – MeriTalk', 'url': 'https://www.meritalk.com/articles/gsa-to-host-a-federal-ai-hackathon-on-july-31/'}\n",
      "{'id': 'web-search_1', 'snippet': 'Skip to main content\\n\\nAn official website of the United States government\\n\\nHere’s how you know Here’s how you know\\n\\nOfficial websites use .gov A .gov website belongs to an official government organization in the United States.\\n\\nSecure .gov websites use HTTPS A lock ( ) or https:// means you’ve safely connected to the .gov website. Share sensitive information only on official, secure websites.\\n\\nU.S...', 'title': 'Federal AI Hackathon | GSA', 'url': 'https://www.gsa.gov/technology/government-it-initiatives/federal-ai-hackathon'}\n",
      "{'id': 'web-search_3', 'snippet': 'Skip to main content\\n\\nAn official website of the United States government\\n\\nHere’s how you know Here’s how you know\\n\\nOfficial websites use .gov A .gov website belongs to an official government organization in the United States.\\n\\nSecure .gov websites use HTTPS A lock ( ) or https:// means you’ve safely connected to the .gov website. Share sensitive information only on official, secure websites.\\n\\nU.S...', 'title': 'The details | GSA', 'url': 'https://www.gsa.gov/technology/government-it-initiatives/federal-ai-hackathon/the-details'}\n",
      "\n",
      "----------------------------------------------------------------------------------------------------\n",
      "Ending chat.\n"
     ]
    }
   ],
   "source": [
    "# Define the connector\n",
    "connectors = [\"web-search\"]\n",
    "\n",
    "# Create an instance of the Chatbot class\n",
    "chatbot = Chatbot(connectors)\n",
    "\n",
    "# Run the chatbot\n",
    "chatbot.run()"
   ],
   "metadata": {
    "collapsed": false,
    "ExecuteTime": {
     "end_time": "2024-07-30T20:30:43.280085Z",
     "start_time": "2024-07-30T20:29:23.471994Z"
    }
   },
   "id": "e3c19fa40faf3eae"
  },
  {
   "cell_type": "code",
   "execution_count": null,
   "outputs": [],
   "source": [],
   "metadata": {
    "collapsed": false
   },
   "id": "9f16e01efbdde656"
  }
 ],
 "metadata": {
  "kernelspec": {
   "display_name": "Python 3",
   "language": "python",
   "name": "python3"
  },
  "language_info": {
   "codemirror_mode": {
    "name": "ipython",
    "version": 2
   },
   "file_extension": ".py",
   "mimetype": "text/x-python",
   "name": "python",
   "nbconvert_exporter": "python",
   "pygments_lexer": "ipython2",
   "version": "2.7.6"
  }
 },
 "nbformat": 4,
 "nbformat_minor": 5
}
